{
 "cells": [
  {
   "cell_type": "markdown",
   "metadata": {},
   "source": [
    "# Create a Spark session and load csv data #"
   ]
  },
  {
   "cell_type": "code",
   "execution_count": 1,
   "metadata": {},
   "outputs": [
    {
     "name": "stdout",
     "output_type": "stream",
     "text": [
      "+----------+--------------------+------------------+--------------------+--------------------+------+--------------------+--------------------+--------------------+--------------------+--------------------+---------+------------+--------------------+-------+-----------------+----------+----------+-----------+--------------------+--------+---------+----------------------+----------------------+--------------------+----------------------+----------------------+--------------------+----------------------+----------------------+--------------------+----------------------+----------------------+--------------------+----------------------+----------------------+-----------------+----------------------+----------------------+--------------------+-----------------------+-----------------------+--------------------+----------------------------+----------------------------+---------------------+--------------------+---------------------+------------------------------+------------------------------+-----------------------+-----------------------------+-----------------------------+----------------------+-------------------------+-------------------------+--------------------+--------------------+--------------------+---------+--------------------+--------------------+---------------+--------------------+--------------+--------------------+--------------------+--------------------+---------------------+-------------------------+-----------------------------+--------------------------+--------------------+---------------------+---------------------+--------------------------+------------+--------------------+--------------------+-------+--------------------+-------+--------------+--------------------+--------------------+-----------+--------------------+--------------------+-----------+--------------------+--------------------+----------------+-----------------+-----------------+--------------------+--------------------+--------------------+--------------------+--------------------+--------------------+--------------------+--------------+--------------+--------------+--------------+--------------+--------------+--------------+---------------+---------------+--------------------+--------------------+-------------------+------+\n",
      "|ResponseId|          MainBranch|               Age|          Employment|          RemoteWork| Check|    CodingActivities|             EdLevel|           LearnCode|     LearnCodeOnline|             TechDoc|YearsCode|YearsCodePro|             DevType|OrgSize|PurchaseInfluence|BuyNewTool|BuildvsBuy|TechEndorse|             Country|Currency|CompTotal|LanguageHaveWorkedWith|LanguageWantToWorkWith|     LanguageAdmired|DatabaseHaveWorkedWith|DatabaseWantToWorkWith|     DatabaseAdmired|PlatformHaveWorkedWith|PlatformWantToWorkWith|     PlatformAdmired|WebframeHaveWorkedWith|WebframeWantToWorkWith|     WebframeAdmired|EmbeddedHaveWorkedWith|EmbeddedWantToWorkWith|  EmbeddedAdmired|MiscTechHaveWorkedWith|MiscTechWantToWorkWith|     MiscTechAdmired|ToolsTechHaveWorkedWith|ToolsTechWantToWorkWith|    ToolsTechAdmired|NEWCollabToolsHaveWorkedWith|NEWCollabToolsWantToWorkWith|NEWCollabToolsAdmired|   OpSysPersonal use|OpSysProfessional use|OfficeStackAsyncHaveWorkedWith|OfficeStackAsyncWantToWorkWith|OfficeStackAsyncAdmired|OfficeStackSyncHaveWorkedWith|OfficeStackSyncWantToWorkWith|OfficeStackSyncAdmired|AISearchDevHaveWorkedWith|AISearchDevWantToWorkWith|  AISearchDevAdmired|          NEWSOSites|         SOVisitFreq|SOAccount|          SOPartFreq|               SOHow|         SOComm|            AISelect|        AISent|               AIBen|               AIAcc|           AIComplex|AIToolCurrently Using|AIToolInterested in Using|AIToolNot interested in Using|AINextMuch more integrated|     AINextNo change|AINextMore integrated|AINextLess integrated|AINextMuch less integrated|    AIThreat|            AIEthics|        AIChallenges|TBranch|              ICorPM|WorkExp|   Knowledge_1|         Knowledge_2|         Knowledge_3|Knowledge_4|         Knowledge_5|         Knowledge_6|Knowledge_7|         Knowledge_8|         Knowledge_9|     Frequency_1|      Frequency_2|      Frequency_3|       TimeSearching|       TimeAnswering|         Frustration|    ProfessionalTech|   ProfessionalCloud|ProfessionalQuestion|            Industry|JobSatPoints_1|JobSatPoints_4|JobSatPoints_5|JobSatPoints_6|JobSatPoints_7|JobSatPoints_8|JobSatPoints_9|JobSatPoints_10|JobSatPoints_11|        SurveyLength|          SurveyEase|ConvertedCompYearly|JobSat|\n",
      "+----------+--------------------+------------------+--------------------+--------------------+------+--------------------+--------------------+--------------------+--------------------+--------------------+---------+------------+--------------------+-------+-----------------+----------+----------+-----------+--------------------+--------+---------+----------------------+----------------------+--------------------+----------------------+----------------------+--------------------+----------------------+----------------------+--------------------+----------------------+----------------------+--------------------+----------------------+----------------------+-----------------+----------------------+----------------------+--------------------+-----------------------+-----------------------+--------------------+----------------------------+----------------------------+---------------------+--------------------+---------------------+------------------------------+------------------------------+-----------------------+-----------------------------+-----------------------------+----------------------+-------------------------+-------------------------+--------------------+--------------------+--------------------+---------+--------------------+--------------------+---------------+--------------------+--------------+--------------------+--------------------+--------------------+---------------------+-------------------------+-----------------------------+--------------------------+--------------------+---------------------+---------------------+--------------------------+------------+--------------------+--------------------+-------+--------------------+-------+--------------+--------------------+--------------------+-----------+--------------------+--------------------+-----------+--------------------+--------------------+----------------+-----------------+-----------------+--------------------+--------------------+--------------------+--------------------+--------------------+--------------------+--------------------+--------------+--------------+--------------+--------------+--------------+--------------+--------------+---------------+---------------+--------------------+--------------------+-------------------+------+\n",
      "|         1|I am a developer ...|Under 18 years old| Employed, full-time|              Remote|Apples|               Hobby|Primary/elementar...|Books / Physical ...|                  NA|                  NA|       NA|          NA|                  NA|     NA|               NA|        NA|        NA|         NA|United States of ...|      NA|       NA|                    NA|                    NA|                  NA|                    NA|                    NA|                  NA|                    NA|                    NA|                  NA|                    NA|                    NA|                  NA|                    NA|                    NA|               NA|                    NA|                    NA|                  NA|                     NA|                     NA|                  NA|                          NA|                          NA|                   NA|                  NA|                   NA|                            NA|                            NA|                     NA|                           NA|                           NA|                    NA|                       NA|                       NA|                  NA|I have never visi...|                  NA|       NA|                  NA|                  NA|             NA|                 Yes|Very favorable|Increase producti...|                  NA|                  NA|                   NA|                       NA|                           NA|                        NA|                  NA|                   NA|                   NA|                        NA|          NA|                  NA|                  NA|     No|                  NA|     NA|            NA|                  NA|                  NA|         NA|                  NA|                  NA|         NA|                  NA|                  NA|              NA|               NA|               NA|                  NA|                  NA|                  NA|                  NA|                  NA|                  NA|                  NA|            NA|            NA|            NA|            NA|            NA|            NA|            NA|             NA|             NA|                  NA|                  NA|                 NA|    NA|\n",
      "|         2|I am a developer ...|   35-44 years old| Employed, full-time|              Remote|Apples|Hobby;Contribute ...|Bachelor’s degree...|Books / Physical ...|Technical documen...|API document(s) a...|       20|          17|Developer, full-s...|     NA|               NA|        NA|        NA|         NA|United Kingdom of...|      NA|       NA|  Bash/Shell (all s...|  Bash/Shell (all s...|Bash/Shell (all s...|  Dynamodb;MongoDB;...|            PostgreSQL|          PostgreSQL|  Amazon Web Servic...|  Amazon Web Servic...|Amazon Web Servic...|  Express;Next.js;N...|  Express;Htmx;Node...|Express;Node.js;R...|                    NA|                    NA|               NA|                    NA|                    NA|                  NA|   Docker;Homebrew;K...|   Docker;Homebrew;K...|Docker;Homebrew;K...|        PyCharm;Visual St...|        PyCharm;Visual St...| PyCharm;Visual St...|       MacOS;Windows|                MacOS|                            NA|                            NA|                     NA|         Microsoft Teams;S...|                        Slack|                 Slack|                       NA|                       NA|                  NA|Stack Overflow fo...|Multiple times pe...|      Yes|Multiple times pe...|Quickly finding c...|Yes, definitely|No, and I don't p...|            NA|                  NA|                  NA|                  NA|                   NA|                       NA|                           NA|                        NA|                  NA|                   NA|                   NA|                        NA|          NA|                  NA|                  NA|    Yes|Individual contri...|     17|         Agree|            Disagree|               Agree|      Agree|               Agree|Neither agree nor...|   Disagree|               Agree|               Agree|              NA|               NA|               NA|                  NA|                  NA|                  NA|                  NA|                  NA|                  NA|                  NA|             0|             0|             0|             0|             0|             0|             0|              0|              0|                  NA|                  NA|                 NA|    NA|\n",
      "|         3|I am a developer ...|   45-54 years old| Employed, full-time|              Remote|Apples|Hobby;Contribute ...|Master’s degree (...|Books / Physical ...|Technical documen...|API document(s) a...|       37|          27|Developer Experience|     NA|               NA|        NA|        NA|         NA|United Kingdom of...|      NA|       NA|                    C#|                    C#|                  C#|  Firebase Realtime...|  Firebase Realtime...|Firebase Realtime...|          Google Cloud|          Google Cloud|        Google Cloud|          ASP.NET CORE|          ASP.NET CORE|        ASP.NET CORE|           Rasberry Pi|           Rasberry Pi|      Rasberry Pi|  .NET (5+) ;.NET F...|  .NET (5+) ;.NET F...|.NET (5+) ;.NET F...|                MSBuild|                MSBuild|             MSBuild|               Visual Studio|               Visual Studio|        Visual Studio|             Windows|              Windows|                            NA|                            NA|                     NA|         Google Chat;Googl...|         Google Chat;Googl...|  Google Chat;Googl...|                       NA|                       NA|                  NA|Stack Overflow;St...|Multiple times pe...|      Yes|Multiple times pe...|Quickly finding c...|Yes, definitely|No, and I don't p...|            NA|                  NA|                  NA|                  NA|                   NA|                       NA|                           NA|                        NA|                  NA|                   NA|                   NA|                        NA|          NA|                  NA|                  NA|     No|                  NA|     NA|            NA|                  NA|                  NA|         NA|                  NA|                  NA|         NA|                  NA|                  NA|              NA|               NA|               NA|                  NA|                  NA|                  NA|                  NA|                  NA|                  NA|                  NA|            NA|            NA|            NA|            NA|            NA|            NA|            NA|             NA|             NA|Appropriate in le...|                Easy|                 NA|    NA|\n",
      "|         4|I am learning to ...|   18-24 years old|  Student, full-time|                  NA|Apples|                  NA|Some college/univ...|Other online reso...|Stack Overflow;Ho...|                  NA|        4|          NA|Developer, full-s...|     NA|               NA|        NA|        NA|         NA|              Canada|      NA|       NA|  C;C++;HTML/CSS;Ja...|  HTML/CSS;Java;Jav...|HTML/CSS;Java;Jav...|  MongoDB;MySQL;Pos...|  MongoDB;MySQL;Pos...|MongoDB;MySQL;Pos...|  Amazon Web Servic...|  Amazon Web Servic...|Amazon Web Servic...|  jQuery;Next.js;No...|  jQuery;Next.js;No...|jQuery;Next.js;No...|           Rasberry Pi|                    NA|               NA|  NumPy;Pandas;Ruff...|                    NA|                  NA|         Docker;npm;Pip|   Docker;Kubernetes...|          Docker;npm|                          NA|                          NA|                   NA|                  NA|                   NA|                            NA|                            NA|                     NA|                           NA|                           NA|                    NA|                       NA|                       NA|                  NA|      Stack Overflow|Daily or almost d...|       No|                  NA|Quickly finding c...| No, not really|                 Yes|Very favorable|Increase producti...|      Somewhat trust|Bad at handling c...| Learning about a ...|     Testing code;Comm...|                         NULL|      Learning about a ...|                NULL|                 NULL|                 NULL|                      NULL|          No|Circulating misin...|Don’t trust the o...|     NA|                  NA|     NA|            NA|                  NA|                  NA|         NA|                  NA|                  NA|         NA|                  NA|                  NA|              NA|               NA|               NA|                  NA|                  NA|                  NA|                  NA|                  NA|                  NA|                  NA|            NA|            NA|            NA|            NA|            NA|            NA|            NA|             NA|             NA|            Too long|                Easy|                 NA|    NA|\n",
      "|         5|I am a developer ...|   18-24 years old|  Student, full-time|                  NA|Apples|                  NA|Secondary school ...|Other online reso...|Technical documen...|API document(s) a...|        9|          NA|Developer, full-s...|     NA|               NA|        NA|        NA|         NA|              Norway|      NA|       NA|  C++;HTML/CSS;Java...|  C++;HTML/CSS;Java...|C++;HTML/CSS;Java...|     PostgreSQL;SQLite|     PostgreSQL;SQLite|   PostgreSQL;SQLite|                    NA|                    NA|                  NA|                    NA|                    NA|                  NA|  CMake;Cargo;Rasbe...|     CMake;Rasberry Pi|CMake;Rasberry Pi|                    NA|                    NA|                  NA|           APT;Make;npm|               APT;Make|            APT;Make|                         Vim|                         Vim|                  Vim|Other (please spe...|                 NULL|          GitHub Discussion...|          GitHub Discussion...|   GitHub Discussion...|             Discord;Whatsapp|             Discord;Whatsapp|      Discord;Whatsapp|                       NA|                       NA|                  NA|Stack Overflow fo...|Multiple times pe...|      Yes|Multiple times pe...|Quickly finding c...|Yes, definitely|No, and I don't p...|            NA|                  NA|                  NA|                  NA|                   NA|                       NA|                           NA|                        NA|                  NA|                   NA|                   NA|                        NA|          NA|                  NA|                  NA|     NA|                  NA|     NA|            NA|                  NA|                  NA|         NA|                  NA|                  NA|         NA|                  NA|                  NA|              NA|               NA|               NA|                  NA|                  NA|                  NA|                  NA|                  NA|                  NA|                  NA|            NA|            NA|            NA|            NA|            NA|            NA|            NA|             NA|             NA|           Too short|                Easy|                 NA|    NA|\n",
      "|         6|I code primarily ...|Under 18 years old|  Student, full-time|                  NA|Apples|                  NA|Primary/elementar...|School (i.e., Uni...|                  NA|                  NA|       10|          NA|             Student|     NA|               NA|        NA|        NA|         NA|United States of ...|      NA|       NA|  Bash/Shell (all s...|  Bash/Shell (all s...|Bash/Shell (all s...|       Cloud Firestore|       Cloud Firestore|     Cloud Firestore|            Cloudflare|            Cloudflare|          Cloudflare|               Node.js|               Node.js|             Node.js|           Rasberry Pi|           Rasberry Pi|      Rasberry Pi|                    NA|                    NA|                  NA|   Docker;Homebrew;n...|   Homebrew;npm;Pip;...|Homebrew;npm;Pip;...|        Nano;Vim;Visual S...|        Nano;Vim;Visual S...| Nano;Vim;Visual S...|    iOS;MacOS;Ubuntu|                 NULL|                 Markdown File|                 Markdown File|          Markdown File|                      Discord|                      Discord|               Discord|     ChatGPT;GitHub Co...|     ChatGPT;GitHub Co...|ChatGPT;GitHub Co...|Stack Overflow;St...|Multiple times pe...|      Yes|Multiple times pe...|Quickly finding c...|Yes, definitely|                 Yes|     Favorable|Increase producti...|      Somewhat trust|Good, but not gre...| Writing code;Debu...|     Documenting code;...|         Learning about a ...|                      NULL|Writing code;Debu...|                 NULL|                 NULL|                      NULL|          No|Circulating misin...|                  NA|     NA|                  NA|     NA|            NA|                  NA|                  NA|         NA|                  NA|                  NA|         NA|                  NA|                  NA|              NA|               NA|               NA|                  NA|                  NA|                  NA|                  NA|                  NA|                  NA|                  NA|            NA|            NA|            NA|            NA|            NA|            NA|            NA|             NA|             NA|Appropriate in le...|                Easy|                 NA|    NA|\n",
      "|         7|I am not primaril...|   35-44 years old| Employed, full-time|              Remote|Apples|I don’t code outs...|Professional degr...|Other online reso...|Technical documen...|                  NA|        7|           7| Academic researcher|     NA|               NA|        NA|        NA|         NA|United States of ...|      NA|       NA|                     R|                     R|                   R|                    NA|                    NA|                  NA|                    NA|                    NA|                  NA|                    NA|                    NA|                  NA|                    NA|                    NA|               NA|                    NA|                    NA|                  NA|                     NA|                     NA|                  NA|                     RStudio|                     RStudio|              RStudio|               MacOS|                MacOS|                            NA|                            NA|                     NA|         Microsoft Teams;W...|         Microsoft Teams;W...|  Microsoft Teams;W...|                       NA|                       NA|                  NA|      Stack Overflow|Daily or almost d...|      Yes|Daily or almost d...|Quickly finding c...|Yes, definitely|No, and I don't p...|            NA|                  NA|                  NA|                  NA|                   NA|                       NA|                           NA|                        NA|                  NA|                   NA|                   NA|                        NA|          NA|                  NA|                  NA|     No|                  NA|     NA|            NA|                  NA|                  NA|         NA|                  NA|                  NA|         NA|                  NA|                  NA|              NA|               NA|               NA|                  NA|                  NA|                  NA|                  NA|                  NA|                  NA|                  NA|            NA|            NA|            NA|            NA|            NA|            NA|            NA|             NA|             NA|            Too long|Neither easy nor ...|                 NA|    NA|\n",
      "|         8|I am learning to ...|   18-24 years old|Student, full-tim...|                  NA|Apples|                  NA|Secondary school ...|Other online reso...|Technical documen...|First-party knowl...|        1|          NA|             Student|     NA|               NA|        NA|        NA|         NA|          Uzbekistan|      NA|       NA|  HTML/CSS;JavaScri...|  HTML/CSS;JavaScri...|HTML/CSS;JavaScri...|              Supabase|              Supabase|            Supabase|  Firebase;Netlify;...|                Vercel|              Vercel|         Next.js;React|         Next.js;React|       Next.js;React|                    NA|                    NA|               NA|                    NA|                    NA|                  NA|          npm;Vite;Yarn|               npm;Vite|            npm;Vite|          Visual Studio Code|          Visual Studio Code|   Visual Studio Code|               MacOS|                MacOS|                          Jira|                            NA|                     NA|         Google Meet;Teleg...|         Google Meet;Telegram|  Google Meet;Telegram|                  ChatGPT|                  ChatGPT|             ChatGPT|      Stack Overflow|Less than once pe...|       No|                  NA|Quickly finding c...| No, not at all|                 Yes|   Indifferent|Increase producti...|   Somewhat distrust|Bad at handling c...| Writing code;Debu...|     Project planning;...|                         NULL|                      NULL|                NULL| Writing code;Debu...|                 NULL|                      NULL|         Yes|Circulating misin...|Don’t trust the o...|     NA|                  NA|     NA|            NA|                  NA|                  NA|         NA|                  NA|                  NA|         NA|                  NA|                  NA|              NA|               NA|               NA|                  NA|                  NA|                  NA|                  NA|                  NA|                  NA|                  NA|            NA|            NA|            NA|            NA|            NA|            NA|            NA|             NA|             NA|Appropriate in le...|           Difficult|                 NA|    NA|\n",
      "|         9|I code primarily ...|   45-54 years old| Employed, full-time|           In-person|Apples|               Hobby|Professional degr...|Books / Physical ...|Stack Overflow;Wr...|                  NA|       20|          NA| Academic researcher|     NA|               NA|        NA|        NA|         NA|United Kingdom of...|      NA|       NA|                   Lua|                   Lua|                 Lua|                    NA|                    NA|                  NA|                    NA|                    NA|                  NA|                    NA|                    NA|                  NA|                    NA|                    NA|               NA|                    NA|                    NA|                  NA|                     NA|                     NA|                  NA|          Visual Studio Code|          Visual Studio Code|   Visual Studio Code|               MacOS|                MacOS|                            NA|                            NA|                     NA|                        Skype|                        Skype|                 Skype|                       NA|                       NA|                  NA|Stack Overflow;St...|Multiple times pe...|      Yes|Multiple times pe...|Engage with commu...|Yes, definitely|No, and I don't p...|            NA|                  NA|                  NA|                  NA|                   NA|                       NA|                           NA|                        NA|                  NA|                   NA|                   NA|                        NA|          NA|                  NA|                  NA|     No|                  NA|     NA|            NA|                  NA|                  NA|         NA|                  NA|                  NA|         NA|                  NA|                  NA|              NA|               NA|               NA|                  NA|                  NA|                  NA|                  NA|                  NA|                  NA|                  NA|            NA|            NA|            NA|            NA|            NA|            NA|            NA|             NA|             NA|Appropriate in le...|Neither easy nor ...|                 NA|    NA|\n",
      "|        10|I am a developer ...|   35-44 years old|Independent contr...|              Remote|Apples|Bootstrapping a b...|Master’s degree (...|On the job traini...|Technical documen...|Traditional publi...|       15|          11|Developer, full-s...|     NA|               NA|        NA|        NA|         NA|              Serbia|      NA|       NA|  HTML/CSS;JavaScri...|  HTML/CSS;JavaScri...|HTML/CSS;JavaScri...|  MongoDB;MySQL;Pos...|  MongoDB;MySQL;Pos...|MongoDB;MySQL;Pos...|  Amazon Web Servic...|  Amazon Web Servic...|Amazon Web Servic...|  Express;Next.js;N...|  Express;Next.js;N...|Express;Next.js;N...|                    NA|                    NA|               NA|                    NA|                    NA|                  NA|            npm;Webpack|            npm;Webpack|         npm;Webpack|          Visual Studio Code|          Visual Studio Code|   Visual Studio Code|             Windows|              Windows|                          Jira|                          Jira|                   Jira|         Discord;Google Me...|         Discord;Google Me...|  Discord;Google Me...|     ChatGPT;Google Ge...|     ChatGPT;Google Ge...|ChatGPT;Google Ge...|      Stack Overflow|A few times per week|      Yes|Less than once pe...|Quickly finding c...|  Yes, somewhat|                 Yes|   Indifferent|Increase producti...|Neither trust nor...|Bad at handling c...|   Search for answers|                     NULL|                         NULL|                      NULL|  Search for answers|                 NULL|                 NULL|                      NULL|I'm not sure|                  NA|                  NA|     NA|                  NA|     NA|            NA|                  NA|                  NA|         NA|                  NA|                  NA|         NA|                  NA|                  NA|              NA|               NA|               NA|                  NA|                  NA|                  NA|                  NA|                  NA|                  NA|                  NA|            NA|            NA|            NA|            NA|            NA|            NA|            NA|             NA|             NA|            Too long|                Easy|                 NA|    NA|\n",
      "|        11|I used to be a de...|   35-44 years old| Employed, full-time|              Remote|Apples|Hobby;Contribute ...|Bachelor’s degree...|Books / Physical ...|Technical documen...|API document(s) a...|       20|          NA|     Project manager|     NA|               NA|        NA|        NA|         NA|United States of ...|      NA|       NA|  JavaScript;Python...|  C#;Crystal;Java;J...|JavaScript;Python...|  Elasticsearch;Mon...|  Elasticsearch;Mon...|Elasticsearch;Mon...|  Amazon Web Servic...|          Google Cloud|        Google Cloud|  Node.js;React;Rub...|  Django;Node.js;Re...|Node.js;React;Rub...|                    NA|                    NA|               NA|                    NA|                    NA|                  NA|   Ansible;Docker;Ku...|   Ansible;Docker;Ku...|Ansible;Docker;Ku...|          Visual Studio Code|          Visual Studio Code|   Visual Studio Code|Windows;Windows S...|              Windows|          Confluence;GitHub...|          Confluence;GitHub...|   Confluence;GitHub...|         Discord;Google Me...|         Discord;Google Me...|  Discord;Google Me...|     ChatGPT;GitHub Co...|     GitHub Copilot;Go...|GitHub Copilot;Go...|Stack Overflow fo...|A few times per week|      Yes|Less than once pe...|Quickly finding c...|Yes, definitely|                 Yes|     Favorable|Increase producti...|   Somewhat distrust|Neither good or b...| Learning about a ...|     Project planning;...|         Committing and re...|                      NULL|                NULL| Learning about a ...|                 NULL|                      NULL|          No|Circulating misin...|Don’t trust the o...|    Yes|Individual contri...|     15|Strongly agree|               Agree|      Strongly agree|      Agree|               Agree|      Strongly agree|      Agree|Neither agree nor...|Neither agree nor...|3-5 times a week|6-10 times a week|6-10 times a week| 30-60 minutes a day|60-120 minutes a day|Amount of technic...|DevOps function;A...|Cloud only (singl...|Internal Develope...|          Healthcare|            50|             0|             0|            25|            10|             0|            15|              0|              0|Appropriate in le...|                Easy|                 NA|     8|\n",
      "|        12|I am a developer ...|   45-54 years old| Employed, full-time|           In-person|Apples|Hobby;School or a...|Professional degr...|Books / Physical ...|                  NA|                  NA|       30|          25|  Developer Advocate|     NA|               NA|        NA|        NA|         NA|              Poland|      NA|       NA|  C;C#;C++;Delphi;H...|  C#;HTML/CSS;JavaS...|C#;HTML/CSS;JavaS...|  Microsoft Access;...|  Microsoft SQL Ser...|Microsoft SQL Ser...|            Cloudflare|            Cloudflare|          Cloudflare|  ASP.NET;ASP.NET C...|  ASP.NET;ASP.NET C...|ASP.NET;ASP.NET C...|                    NA|                    NA|               NA|  .NET (5+) ;.NET F...|  .NET (5+) ;.NET F...|.NET (5+) ;.NET F...|   Docker;npm;Webpac...|   Docker;npm;Webpac...|Docker;npm;Webpac...|        Android Studio;In...|        Notepad++;Visual ...| Notepad++;Visual ...|Windows;Windows S...| Windows;Windows S...|                            NA|                            NA|                     NA|              Microsoft Teams|              Microsoft Teams|       Microsoft Teams|                       NA|                       NA|                  NA|Stack Overflow;St...|Multiple times pe...|      Yes|Multiple times pe...|Quickly finding c...|Yes, definitely|No, and I don't p...|            NA|                  NA|                  NA|                  NA|                   NA|                       NA|                           NA|                        NA|                  NA|                   NA|                   NA|                        NA|          NA|                  NA|                  NA|     No|                  NA|     NA|            NA|                  NA|                  NA|         NA|                  NA|                  NA|         NA|                  NA|                  NA|              NA|               NA|               NA|                  NA|                  NA|                  NA|                  NA|                  NA|                  NA|                  NA|            NA|            NA|            NA|            NA|            NA|            NA|            NA|             NA|             NA|Appropriate in le...|Neither easy nor ...|                 NA|    NA|\n",
      "|        13|I am a developer ...|   35-44 years old| Employed, full-time|Hybrid (some remo...|Apples|Hobby;Contribute ...|Bachelor’s degree...|Books / Physical ...|                  NA|                  NA|       20|          12| Developer, back-end|     NA|               NA|        NA|        NA|         NA|United States of ...|      NA|       NA|  Bash/Shell (all s...|  Bash/Shell (all s...|Bash/Shell (all s...|                 MySQL|                 MySQL|               MySQL|  Amazon Web Servic...|        Hetzner;VMware|      Hetzner;VMware|                    NA|                    NA|                  NA|                    NA|                    NA|               NA|                    NA|                    NA|                  NA|   Ansible;Chocolate...|   Ansible;Docker;Pa...|Ansible;Docker;Pa...|        Notepad++;Vim;Vis...|        Neovim;Notepad++;...| Notepad++;Vim;Vis...|Windows;Windows S...| Windows Subsystem...|          Doxygen;Jira;Obsi...|                          Jira|                   Jira|         Discord;Microsoft...|         Discord;Microsoft...|  Discord;Microsoft...|                       NA|                       NA|                  NA|Stack Overflow;St...|Multiple times pe...|      Yes|A few times per week|Showcase expertis...|Yes, definitely|No, and I don't p...|            NA|                  NA|                  NA|                  NA|                   NA|                       NA|                           NA|                        NA|                  NA|                   NA|                   NA|                        NA|          NA|                  NA|                  NA|    Yes|Individual contri...|     12|Strongly agree|            Disagree|Neither agree nor...|      Agree|               Agree|   Strongly disagree|      Agree|               Agree|   Strongly disagree|1-2 times a week| 1-2 times a week| 1-2 times a week| 30-60 minutes a day| 15-30 minutes a day|Amount of technic...|Knowledge sharing...|Hybrid (on-prem a...|          A coworker|Software Development|             0|             0|            30|            30|             0|             0|            20|             10|             10|Appropriate in le...|                Easy|                 NA|     8|\n",
      "|        14|I used to be a de...|   35-44 years old|Not employed, and...|                  NA|Apples|                  NA|Bachelor’s degree...|Colleague;Other o...|Technical documen...|API document(s) a...|       20|          NA|Other (please spe...|     NA|               NA|        NA|        NA|         NA|         Philippines|      NA|       NA|            PHP;Python|                Python|              Python|         MariaDB;MySQL|                    NA|                  NA|                    NA|                    NA|                  NA|           CodeIgniter|                    NA|                  NA|                 CMake|                    NA|               NA|                    NA|                    NA|                  NA|                Ant;APT|                     NA|                  NA|        Visual Studio;Vis...|                          NA|                   NA|MacOS;Ubuntu;Wind...| Ubuntu;Windows;Wi...|                            NA|                            NA|                     NA|                      Discord|                           NA|                    NA|                  ChatGPT|                  ChatGPT|             ChatGPT|Stack Overflow;St...|Daily or almost d...|      Yes|A few times per week|Quickly finding c...|Yes, definitely|                 Yes|Very favorable|Increase producti...|        Highly trust|Very well at hand...| Learning about a ...|                     NULL|                         NULL|      Learning about a ...|                NULL|                 NULL|                 NULL|                      NULL|I'm not sure|Biased results th...|                  NA|     NA|                  NA|     NA|            NA|                  NA|                  NA|         NA|                  NA|                  NA|         NA|                  NA|                  NA|              NA|               NA|               NA|                  NA|                  NA|                  NA|                  NA|                  NA|                  NA|                  NA|            NA|            NA|            NA|            NA|            NA|            NA|            NA|             NA|             NA|            Too long|Neither easy nor ...|                 NA|    NA|\n",
      "|        15|I am a developer ...|   25-34 years old| Employed, full-time|Hybrid (some remo...|Apples|Hobby;Professiona...|Master’s degree (...|Books / Physical ...|Stack Overflow;Co...|                  NA|       15|          10|                  NA|     NA|               NA|        NA|        NA|         NA|            Bulgaria|      NA|       NA|                 C;C++|                 C;C++|               C;C++|                Oracle|                Oracle|              Oracle|                    NA|                    NA|                  NA|                    NA|                    NA|                  NA|                    NA|                    NA|               NA|  .NET Framework (1...|                    NA|                  NA|                   Make|                   Make|                Make|        Eclipse;Notepad++...|        Notepad++;Visual ...| Notepad++;Visual ...|     Red Hat;Windows|      Red Hat;Windows|                            NA|                            NA|                     NA|                           NA|                           NA|                    NA|                       NA|                       NA|                  NA|      Stack Overflow|Daily or almost d...|      Yes|A few times per week|Quickly finding c...|  Yes, somewhat|No, and I don't p...|            NA|                  NA|                  NA|                  NA|                   NA|                       NA|                           NA|                        NA|                  NA|                   NA|                   NA|                        NA|          NA|                  NA|                  NA|     No|                  NA|     NA|            NA|                  NA|                  NA|         NA|                  NA|                  NA|         NA|                  NA|                  NA|              NA|               NA|               NA|                  NA|                  NA|                  NA|                  NA|                  NA|                  NA|                  NA|            NA|            NA|            NA|            NA|            NA|            NA|            NA|             NA|             NA|Appropriate in le...|                Easy|                 NA|    NA|\n",
      "|        16|I am a developer ...|   45-54 years old| Employed, full-time|Hybrid (some remo...|Apples|               Hobby|Some college/univ...|Books / Physical ...|Technical documen...|API document(s) a...|       31|          27|Developer, full-s...|     NA|               NA|        NA|        NA|         NA|         Switzerland|      NA|       NA|  C#;HTML/CSS;JavaS...|                C#;SQL|              C#;SQL|  Microsoft Access;...|  Microsoft SQL Server|Microsoft SQL Server|                    NA|                    NA|                  NA|  ASP.NET;ASP.NET C...|                Blazor|              Blazor|           Rasberry Pi|           Rasberry Pi|      Rasberry Pi|  .NET (5+) ;.NET F...|     .NET (5+) ;Roslyn|   .NET (5+) ;Roslyn|                  NuGet|                  NuGet|               NuGet|        Notepad++;Visual ...|        Notepad++;Visual ...| Notepad++;Visual ...|             Windows|              Windows|          Confluence;Jira;S...|          Stack Overflow fo...|   Stack Overflow fo...|              Microsoft Teams|                           NA|                    NA|     ChatGPT;Google Ge...|     ChatGPT;Google Ge...|ChatGPT;Google Ge...|Stack Overflow fo...|A few times per m...|      Yes|A few times per m...|Quickly finding c...|  Yes, somewhat|No, and I don't p...|            NA|                  NA|                  NA|                  NA|                   NA|                       NA|                           NA|                        NA|                  NA|                   NA|                   NA|                        NA|          NA|                  NA|                  NA|    Yes|Individual contri...|     29|Strongly agree|Neither agree nor...|               Agree|   Disagree|Neither agree nor...|               Agree|      Agree|Neither agree nor...|   Strongly disagree|1-2 times a week| 3-5 times a week| 1-2 times a week|60-120 minutes a day|60-120 minutes a day|Amount of technic...|DevOps function;A...|Hybrid (on-prem a...|Traditional publi...|Banking/Financial...|             0|             0|             0|             0|             0|             0|             0|              0|              0|Appropriate in le...|Neither easy nor ...|                 NA|     5|\n",
      "|        17|I code primarily ...|Under 18 years old|  Student, full-time|                  NA|Apples|                  NA|Primary/elementar...|Books / Physical ...|Technical documen...|API document(s) a...|        7|          NA|             Student|     NA|               NA|        NA|        NA|         NA|              Canada|      NA|       NA|       Rust;TypeScript|       Rust;TypeScript|     Rust;TypeScript|                    NA|                    NA|                  NA|                    NA|                    NA|                  NA|               Node.js|         Deno;Solid.js|                  NA|                    NA|                    NA|               NA|                    NA|                    NA|                  NA|               npm;Vite|                   Vite|                Vite|          Visual Studio Code|          Visual Studio Code|   Visual Studio Code|                Arch|                 NULL|                            NA|                            NA|                     NA|                      Discord|                      Discord|               Discord|     ChatGPT;GitHub Co...|     ChatGPT;GitHub Co...|ChatGPT;GitHub Co...|      Stack Overflow|A few times per week|      Yes|Less than once pe...|Quickly finding c...| No, not really|                 Yes|     Favorable|Increase producti...|   Somewhat distrust|Neither good or b...| Writing code;Test...|     Learning about a ...|         Project planning;...|                      NULL|                NULL| Writing code;Test...|                 NULL|                      NULL|          No|Circulating misin...|                  NA|     NA|                  NA|     NA|            NA|                  NA|                  NA|         NA|                  NA|                  NA|         NA|                  NA|                  NA|              NA|               NA|               NA|                  NA|                  NA|                  NA|                  NA|                  NA|                  NA|                  NA|            NA|            NA|            NA|            NA|            NA|            NA|            NA|             NA|             NA|Appropriate in le...|                Easy|                 NA|    NA|\n",
      "|        18|I am a developer ...|   18-24 years old|Independent contr...|              Remote|Apples|Hobby;Professiona...|Bachelor’s degree...|Other online reso...|Blogs;Coding sess...|                  NA|        6|           3|Developer, front-end|     NA|               NA|        NA|        NA|         NA|               India|      NA|       NA|  HTML/CSS;JavaScri...|  HTML/CSS;JavaScri...|HTML/CSS;JavaScri...|                    NA|                    NA|                  NA|  Amazon Web Servic...|                    NA|                  NA|  jQuery;Next.js;React|         Next.js;React|       Next.js;React|                    NA|                    NA|               NA|          React Native|   OpenGL;React Native|        React Native|   Docker;npm;Vite;Yarn|       Docker;pnpm;Vite|         Docker;Vite|                    VSCodium|                    VSCodium|             VSCodium|             Windows|              Windows|                  Azure Devops|                  Azure Devops|           Azure Devops|         Google Meet;Micro...|         Google Meet;Micro...|  Google Meet;Micro...|                  ChatGPT|     GitHub Copilot;Go...|                  NA|Stack Overflow;St...|Less than once pe...|      Yes|Less than once pe...|Quickly finding c...|        Neutral|No, but I plan to...|     Favorable|                  NA|                  NA|                  NA|                   NA|                       NA|                           NA|                        NA|                  NA|                   NA|                   NA|                        NA|I'm not sure|Replacing jobs wi...|Lack of executive...|     NA|                  NA|     NA|            NA|                  NA|                  NA|         NA|                  NA|                  NA|         NA|                  NA|                  NA|              NA|               NA|               NA|                  NA|                  NA|                  NA|                  NA|                  NA|                  NA|                  NA|            NA|            NA|            NA|            NA|            NA|            NA|            NA|             NA|             NA|Appropriate in le...|                Easy|                 NA|    NA|\n",
      "|        19|I am a developer ...|   25-34 years old| Employed, full-time|Hybrid (some remo...|Apples|Hobby;Professiona...|Some college/univ...|Books / Physical ...|Technical documen...|API document(s) a...|       12|          10|Developer, full-s...|     NA|               NA|        NA|        NA|         NA|             Germany|      NA|       NA|  C#;HTML/CSS;JavaS...|  C#;HTML/CSS;JavaS...|C#;HTML/CSS;JavaS...|  Microsoft Access;...|  Microsoft SQL Ser...|Microsoft SQL Ser...|       Microsoft Azure|       Microsoft Azure|     Microsoft Azure|  ASP.NET;ASP.NET C...|   ASP.NET CORE;Blazor| ASP.NET CORE;Blazor|                    NA|                    NA|               NA|            .NET (5+) |            .NET (5+) |          .NET (5+) |   Ansible;Chocolate...|                MSBuild|             MSBuild|        Visual Studio;Vis...|               Visual Studio|        Visual Studio|Other Linux-based...|              Windows|                  Azure Devops|                  Azure Devops|           Azure Devops|         Microsoft Teams;T...|         Microsoft Teams;T...|  Microsoft Teams;T...|     ChatGPT;GitHub Co...|     ChatGPT;GitHub Co...|ChatGPT;GitHub Co...|      Stack Overflow|Daily or almost d...|      Yes|A few times per week|Quickly finding c...|Yes, definitely|                 Yes|Very favorable|Increase producti...|Neither trust nor...|Neither good or b...| Writing code;Docu...|     Learning about a ...|         Project planning;...|      Documenting code;...|                NULL| Writing code;Sear...|                 NULL|                      NULL|          No|       Energy demand|Not everyone uses...|    Yes|Individual contri...|     12|         Agree|               Agree|Neither agree nor...|      Agree|      Strongly agree|               Agree|   Disagree|               Agree|Neither agree nor...|           Never| 3-5 times a week| 3-5 times a week| 15-30 minutes a day| 30-60 minutes a day|Amount of technic...|DevOps function;A...|Hybrid (on-prem a...|Traditional publi...|Software Development|            10|             0|            10|            60|            10|            10|             0|              0|              0|Appropriate in le...|                Easy|                 NA|    10|\n",
      "|        20|I am a developer ...|   35-44 years old| Employed, full-time|Hybrid (some remo...|Apples|Hobby;Professiona...|Some college/univ...|Books / Physical ...|Technical documen...|API document(s) a...|       22|          11|Database administ...|     NA|               NA|        NA|        NA|         NA|United Kingdom of...|      NA|       NA|        PowerShell;SQL|  PowerShell;Python...|      PowerShell;SQL|  Microsoft SQL Server|  Microsoft SQL Server|Microsoft SQL Server|       Microsoft Azure|       Microsoft Azure|     Microsoft Azure|                    NA|                    NA|                  NA|                    NA|                    NA|               NA|                    NA|                    NA|                  NA|                     NA|                     NA|                  NA|        Kate;Nano;Notepad...|        Kate;Nano;Notepad...| Kate;Nano;Notepad...|Arch;ChromeOS;Ubuntu|       Ubuntu;Windows|                          Jira|                          Jira|                   Jira|         Cisco Webex Teams...|                      Discord|               Discord|                       NA|                       NA|                  NA|Stack Overflow fo...|Multiple times pe...|      Yes|Multiple times pe...|Finding reliable ...|Yes, definitely|No, and I don't p...|            NA|                  NA|                  NA|                  NA|                   NA|                       NA|                           NA|                        NA|                  NA|                   NA|                   NA|                        NA|          NA|                  NA|                  NA|     No|                  NA|     NA|            NA|                  NA|                  NA|         NA|                  NA|                  NA|         NA|                  NA|                  NA|              NA|               NA|               NA|                  NA|                  NA|                  NA|                  NA|                  NA|                  NA|                  NA|            NA|            NA|            NA|            NA|            NA|            NA|            NA|             NA|             NA|Appropriate in le...|Neither easy nor ...|                 NA|    NA|\n",
      "+----------+--------------------+------------------+--------------------+--------------------+------+--------------------+--------------------+--------------------+--------------------+--------------------+---------+------------+--------------------+-------+-----------------+----------+----------+-----------+--------------------+--------+---------+----------------------+----------------------+--------------------+----------------------+----------------------+--------------------+----------------------+----------------------+--------------------+----------------------+----------------------+--------------------+----------------------+----------------------+-----------------+----------------------+----------------------+--------------------+-----------------------+-----------------------+--------------------+----------------------------+----------------------------+---------------------+--------------------+---------------------+------------------------------+------------------------------+-----------------------+-----------------------------+-----------------------------+----------------------+-------------------------+-------------------------+--------------------+--------------------+--------------------+---------+--------------------+--------------------+---------------+--------------------+--------------+--------------------+--------------------+--------------------+---------------------+-------------------------+-----------------------------+--------------------------+--------------------+---------------------+---------------------+--------------------------+------------+--------------------+--------------------+-------+--------------------+-------+--------------+--------------------+--------------------+-----------+--------------------+--------------------+-----------+--------------------+--------------------+----------------+-----------------+-----------------+--------------------+--------------------+--------------------+--------------------+--------------------+--------------------+--------------------+--------------+--------------+--------------+--------------+--------------+--------------+--------------+---------------+---------------+--------------------+--------------------+-------------------+------+\n",
      "only showing top 20 rows\n",
      "\n"
     ]
    }
   ],
   "source": [
    "from pyspark.sql import SparkSession\n",
    "\n",
    "# Initialize Spark session\n",
    "spark = SparkSession.builder.getOrCreate()\n",
    "\n",
    "# Load the Stack Overflow survey response CSV file into a DataFrame\n",
    "soDf = spark.read.csv(\"C:\\\\Users\\\\Phil.Austin\\\\OneDrive - Telefonica Tech UK Limited\\\\survey_results_public.csv\", header=True, inferSchema=True)\n",
    "\n",
    "# Show the first few rows of the DataFrame\n",
    "soDf.show()"
   ]
  },
  {
   "cell_type": "code",
   "execution_count": 2,
   "metadata": {},
   "outputs": [
    {
     "name": "stdout",
     "output_type": "stream",
     "text": [
      "+------------------+-----------------+\n",
      "|               Age|NumberOfResponses|\n",
      "+------------------+-----------------+\n",
      "|   25-34 years old|            23911|\n",
      "|   35-44 years old|            14942|\n",
      "|   18-24 years old|            14098|\n",
      "|   45-54 years old|             6249|\n",
      "|   55-64 years old|             2575|\n",
      "|Under 18 years old|             2568|\n",
      "| 65 years or older|              772|\n",
      "| Prefer not to say|              322|\n",
      "+------------------+-----------------+\n",
      "\n"
     ]
    }
   ],
   "source": [
    "soDf.createOrReplaceTempView(\"so_data\")\n",
    "\n",
    "grpDf = spark.sql(\"\"\"\n",
    "                    SELECT \n",
    "                        Age, \n",
    "                        COUNT(*) AS NumberOfResponses \n",
    "                    FROM so_data \n",
    "                    GROUP BY Age \n",
    "                    ORDER BY COUNT(*) DESC\n",
    "                \"\"\")\n",
    "\n",
    "grpDf.show()"
   ]
  },
  {
   "cell_type": "markdown",
   "metadata": {},
   "source": [
    "# Salaries are in different currencies #\n",
    "\n",
    "## Which you can see in Data Wrangler... ##\n"
   ]
  },
  {
   "cell_type": "code",
   "execution_count": 3,
   "metadata": {},
   "outputs": [
    {
     "name": "stdout",
     "output_type": "stream",
     "text": [
      "+----------+------------------+-------------+---------------------------------+---------------------+\n",
      "|   Country|  Unit Of Currency|Currency Code|Sterling value of Currency Unit £|Currency Units per £1|\n",
      "+----------+------------------+-------------+---------------------------------+---------------------+\n",
      "| Abu Dhabi|            Dirham|          AED|                           0.2173|               4.6012|\n",
      "|   Albania|               Lek|          ALL|                           0.0081|             122.9802|\n",
      "|   Algeria|             Dinar|          DZD|                           0.0059|             169.8818|\n",
      "|    Angola|      Readj Kwanza|          AOA|                           0.0011|             944.5533|\n",
      "|   Antigua|E Caribbean Dollar|          XCD|                           0.2955|               3.3846|\n",
      "| Argentina|              Peso|          ARS|                           0.0019|             528.1742|\n",
      "|   Armenia|              Dram|          AMD|                            0.002|              492.278|\n",
      "|     Aruba|            Florin|          AWG|                           0.4459|               2.2426|\n",
      "| Australia|            Dollar|          AUD|                           0.5266|                1.899|\n",
      "|Azerbaijan|         New Manat|          AZN|                           0.4692|               2.1315|\n",
      "|   Bahamas|            Dollar|          BSD|                           0.7982|               1.2529|\n",
      "|   Bahrain|             Dinar|          BHD|                           2.1203|               0.4716|\n",
      "|Bangladesh|              Taka|          BDT|                           0.0073|              136.589|\n",
      "|  Barbados|            Dollar|          BBD|                           0.3991|               2.5057|\n",
      "|   Belarus|            Rouble|          BYN|                           0.2819|               3.5477|\n",
      "|    Belize|            Dollar|          BZD|                           0.3974|               2.5162|\n",
      "|     Benin|         CFA Franc|          XOF|                           0.0013|             757.1598|\n",
      "|   Bermuda|       Dollar (US)|          BMD|                           0.7982|               1.2529|\n",
      "|    Bhutan|          Ngultrum|          BTN|                           0.0096|             103.7034|\n",
      "|   Bolivia|         Boliviano|          BOB|                           0.1156|               8.6536|\n",
      "+----------+------------------+-------------+---------------------------------+---------------------+\n",
      "only showing top 20 rows\n",
      "\n"
     ]
    }
   ],
   "source": [
    "#Load currency conversions\n",
    "currencyConvDf = spark.read.csv(\"average_csv_2024-3.csv\", header=True, inferSchema=True)\n",
    "\n",
    "currencyConvDf.show()\n"
   ]
  },
  {
   "cell_type": "markdown",
   "metadata": {},
   "source": [
    "# Add a Currency Code column to the SO dataframe #"
   ]
  },
  {
   "cell_type": "code",
   "execution_count": 4,
   "metadata": {},
   "outputs": [
    {
     "name": "stdout",
     "output_type": "stream",
     "text": [
      "+--------------------+------------+\n",
      "|            Currency|CurrencyCode|\n",
      "+--------------------+------------+\n",
      "|PKR\\tPakistani rupee|         PKR|\n",
      "|   EUR European Euro|         EUR|\n",
      "|USD\\tUnited State...|         USD|\n",
      "|   EUR European Euro|         EUR|\n",
      "| BRL\\tBrazilian real|         BRL|\n",
      "|   EUR European Euro|         EUR|\n",
      "|   EUR European Euro|         EUR|\n",
      "|   EUR European Euro|         EUR|\n",
      "|USD\\tUnited State...|         USD|\n",
      "| GBP\\tPound sterling|         GBP|\n",
      "| GBP\\tPound sterling|         GBP|\n",
      "|USD\\tUnited State...|         USD|\n",
      "|   EUR European Euro|         EUR|\n",
      "| GBP\\tPound sterling|         GBP|\n",
      "|   EUR European Euro|         EUR|\n",
      "|USD\\tUnited State...|         USD|\n",
      "|   RON\\tRomanian leu|         RON|\n",
      "| GBP\\tPound sterling|         GBP|\n",
      "|   EUR European Euro|         EUR|\n",
      "|USD\\tUnited State...|         USD|\n",
      "+--------------------+------------+\n",
      "only showing top 20 rows\n",
      "\n"
     ]
    }
   ],
   "source": [
    "from pyspark.sql import functions as F\n",
    "\n",
    "# Add a new column 'CurrencyCode' to soDf that contains the first three letters of 'Currency'\n",
    "soDf = soDf.withColumn(\"CurrencyCode\", F.expr(\"substring(Currency, 1, 3)\"))\n",
    "\n",
    "soDf.filter(soDf.Currency != 'NA').select(soDf[\"Currency\"], soDf[\"CurrencyCode\"]).show()"
   ]
  },
  {
   "cell_type": "markdown",
   "metadata": {},
   "source": [
    "# Convert Compensation into GBP #"
   ]
  },
  {
   "cell_type": "code",
   "execution_count": 5,
   "metadata": {},
   "outputs": [
    {
     "name": "stdout",
     "output_type": "stream",
     "text": [
      "+--------------------+---------+----------------------+---------------------------------+--------------+--------------------+\n",
      "|             Country|CompTotal|LanguageHaveWorkedWith|Sterling value of Currency Unit £|CompTotalInGBP|            Language|\n",
      "+--------------------+---------+----------------------+---------------------------------+--------------+--------------------+\n",
      "|            Pakistan|  2040000|  Assembly;Bash/She...|                           0.0028|        5712.0|            Assembly|\n",
      "|            Pakistan|  2040000|  Assembly;Bash/She...|                           0.0028|        5712.0|Bash/Shell (all s...|\n",
      "|            Pakistan|  2040000|  Assembly;Bash/She...|                           0.0028|        5712.0|                   C|\n",
      "|            Pakistan|  2040000|  Assembly;Bash/She...|                           0.0028|        5712.0|                 C++|\n",
      "|            Pakistan|  2040000|  Assembly;Bash/She...|                           0.0028|        5712.0|            HTML/CSS|\n",
      "|            Pakistan|  2040000|  Assembly;Bash/She...|                           0.0028|        5712.0|                Java|\n",
      "|            Pakistan|  2040000|  Assembly;Bash/She...|                           0.0028|        5712.0|          JavaScript|\n",
      "|            Pakistan|  2040000|  Assembly;Bash/She...|                           0.0028|        5712.0|              Python|\n",
      "|            Pakistan|  2040000|  Assembly;Bash/She...|                           0.0028|        5712.0|                   R|\n",
      "|            Pakistan|  2040000|  Assembly;Bash/She...|                           0.0028|        5712.0|                 SQL|\n",
      "|            Pakistan|  2040000|  Assembly;Bash/She...|                           0.0028|        5712.0|          TypeScript|\n",
      "|              France|       NA|  Bash/Shell (all s...|                           0.8663|          NULL|Bash/Shell (all s...|\n",
      "|              France|       NA|  Bash/Shell (all s...|                           0.8663|          NULL|                  Go|\n",
      "|              France|       NA|  Bash/Shell (all s...|                           0.8663|          NULL|                Java|\n",
      "|              France|       NA|  Bash/Shell (all s...|                           0.8663|          NULL|          JavaScript|\n",
      "|              France|       NA|  Bash/Shell (all s...|                           0.8663|          NULL|              Kotlin|\n",
      "|              France|       NA|  Bash/Shell (all s...|                           0.8663|          NULL|         Objective-C|\n",
      "|              France|       NA|  Bash/Shell (all s...|                           0.8663|          NULL|              Python|\n",
      "|              France|       NA|  Bash/Shell (all s...|                           0.8663|          NULL|               Swift|\n",
      "|United States of ...|       NA|  HTML/CSS;JavaScri...|                           0.7982|          NULL|            HTML/CSS|\n",
      "+--------------------+---------+----------------------+---------------------------------+--------------+--------------------+\n",
      "only showing top 20 rows\n",
      "\n"
     ]
    }
   ],
   "source": [
    "from pyspark.sql import functions as F\n",
    "from pyspark.sql.types import DecimalType\n",
    "\n",
    "# Join soDf to currencyConvDf where currencyConvDf.CurrencyCode = soDf.Currency Code\n",
    "conversionDf = soDf.join(\n",
    "    currencyConvDf,\n",
    "    soDf[\"CurrencyCode\"] == currencyConvDf[\"Currency Code\"],\n",
    "    \"inner\"\n",
    "). \\\n",
    "    select(soDf[\"Country\"], \\\n",
    "           soDf[\"CompTotal\"], \\\n",
    "           soDf[\"LanguageHaveWorkedWith\"], \\\n",
    "           currencyConvDf[\"Sterling value of Currency Unit £\"])\n",
    "\n",
    "# convert total compensation into GBP\n",
    "conversionDf = conversionDf.withColumn(\"CompTotalInGBP\", \n",
    "                    F.col(\"CompTotal\") * F.col(\"Sterling value of Currency Unit £\"))\n",
    "\n",
    "\n",
    "# Split the LanguagesWorkedWith column on the ; character and explode it\n",
    "explodedDf = conversionDf.withColumn(\n",
    "    \"Language\",\n",
    "    F.explode(F.split(F.col(\"LanguageHaveWorkedWith\"), \";\"))\n",
    ")\n",
    "\n",
    "explodedDf.show()\n"
   ]
  },
  {
   "cell_type": "markdown",
   "metadata": {},
   "source": [
    "# And the winner is... #"
   ]
  },
  {
   "cell_type": "code",
   "execution_count": 7,
   "metadata": {},
   "outputs": [],
   "source": [
    "\n",
    "# Filter out rows where CompTotalInGBP is 0 or null\n",
    "filteredDf = explodedDf.filter((F.col(\"CompTotalInGBP\") != 0) \\\n",
    "                               & (F.col(\"CompTotalInGBP\").isNotNull()) \n",
    "                               )   \n",
    "\n",
    "# Aggregate median CompTotalInGBP by Language and show the top 10\n",
    "aggregatedDf = filteredDf.groupBy(\"Language\").\\\n",
    "                agg(F.median(\"CompTotalInGBP\").alias(\"Median Compensation In GBP\")).\\\n",
    "                        orderBy(F.desc(\"Median Compensation In GBP\")).\\\n",
    "                            limit(20)\n",
    "\n",
    "\n"
   ]
  },
  {
   "cell_type": "code",
   "execution_count": 8,
   "metadata": {},
   "outputs": [
    {
     "name": "stdout",
     "output_type": "stream",
     "text": [
      "+--------------------+--------------------------+\n",
      "|            Language|Median Compensation In GBP|\n",
      "+--------------------+--------------------------+\n",
      "|              Erlang|                   76627.2|\n",
      "|             Clojure|                   75888.7|\n",
      "|              Elixir|                   74000.0|\n",
      "|                Ruby|                   73987.5|\n",
      "|                Perl|         73434.40000000001|\n",
      "|               Scala|                71476.6804|\n",
      "|             Fortran|                   69304.0|\n",
      "|                Lisp|                   67847.0|\n",
      "|                  F#|                   64972.5|\n",
      "|                  Go|                   63856.0|\n",
      "|                Rust|         63562.72639999999|\n",
      "|                Apex|                   63049.8|\n",
      "|         Objective-C|                   62582.4|\n",
      "|Bash/Shell (all s...|                   62373.6|\n",
      "|              Groovy|                   62373.6|\n",
      "|               Swift|        61507.299999999996|\n",
      "|         MicroPython|                   60641.0|\n",
      "|          PowerShell|                   60400.0|\n",
      "|               OCaml|                   60320.5|\n",
      "|                 Lua|                   59372.5|\n",
      "+--------------------+--------------------------+\n",
      "\n"
     ]
    }
   ],
   "source": [
    "aggregatedDf.show()"
   ]
  },
  {
   "cell_type": "code",
   "execution_count": 9,
   "metadata": {},
   "outputs": [
    {
     "name": "stdout",
     "output_type": "stream",
     "text": [
      "+--------------------+--------------------------+\n",
      "|            Language|Median Compensation In GBP|\n",
      "+--------------------+--------------------------+\n",
      "|               Swift|                  143676.0|\n",
      "|                Java|                  119730.0|\n",
      "|               Julia|                  119730.0|\n",
      "|              Elixir|                  105362.4|\n",
      "|         MicroPython|                  103956.0|\n",
      "|              Kotlin|                  101504.0|\n",
      "|                 C++|                  101504.0|\n",
      "|            GDScript|                  101504.0|\n",
      "|                  C#|                   86630.0|\n",
      "|Bash/Shell (all s...|                   86630.0|\n",
      "|                 PHP|                   83411.9|\n",
      "|          JavaScript|                   83225.0|\n",
      "|              Python|                   79820.0|\n",
      "|                  Go|                   77142.0|\n",
      "|          TypeScript|                   73434.4|\n",
      "|            HTML/CSS|                   73434.4|\n",
      "|                Dart|                   73434.4|\n",
      "|                 SQL|                   67048.8|\n",
      "|             Clojure|                   67048.8|\n",
      "|          PowerShell|                   66345.6|\n",
      "+--------------------+--------------------------+\n",
      "\n"
     ]
    }
   ],
   "source": [
    "# Filter out rows where CompTotalInGBP is 0 or null\n",
    "filteredDf = explodedDf.filter((F.col(\"CompTotalInGBP\") != 0) \\\n",
    "                               & (F.col(\"CompTotalInGBP\").isNotNull()) \\\n",
    "                                   & (F.col(\"Country\") == \"United Kingdom of Great Britain and Northern Ireland\"))   \n",
    "\n",
    "# Aggregate median CompTotalInGBP by Language and show the top 10\n",
    "aggregatedDf = filteredDf.groupBy(\"Language\").\\\n",
    "                agg(F.median(\"CompTotalInGBP\").alias(\"Median Compensation In GBP\")).\\\n",
    "                        orderBy(F.desc(\"Median Compensation In GBP\")).\\\n",
    "                            limit(20)\n",
    "\n",
    "aggregatedDf.show()"
   ]
  }
 ],
 "metadata": {
  "kernelspec": {
   "display_name": "dataengforfree_env",
   "language": "python",
   "name": "python3"
  },
  "language_info": {
   "codemirror_mode": {
    "name": "ipython",
    "version": 3
   },
   "file_extension": ".py",
   "mimetype": "text/x-python",
   "name": "python",
   "nbconvert_exporter": "python",
   "pygments_lexer": "ipython3",
   "version": "3.9.20"
  }
 },
 "nbformat": 4,
 "nbformat_minor": 2
}
